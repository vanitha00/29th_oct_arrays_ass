{
 "cells": [
  {
   "cell_type": "markdown",
   "metadata": {},
   "source": [
    "1. Given an array, check if it contains any duplicates or not.\n",
    "arr = [1, 2, 4, 2, 5, 9]\n",
    "Output = True\n",
    "\n",
    "2. Given an array and an integer k, rotate the array to the right by k steps.\n",
    "arr = [1, 2, 3, 4, 5, 6, 7] k = 3\n",
    "Output = [5, 6, 7, 1, 2, 3, 4]\n",
    "\n",
    "3. Reverse the given array in-place, means without using any extra data structure.\n",
    "arr = [2, 4, 5, 7, 9, 12]\n",
    "Output = [12, 9, 7, 5, 4, 2]\n",
    "\n",
    "4. Given an array of integers, find the maximum element in an array\n",
    "arr = [10, 5, 20, 8, 15]\n",
    "Output = 20\n",
    "\n",
    "5. Given a sorted array, remove the duplicate element without using any extra data structure.\n",
    "arr = [1, 1, 2, 2, 2, 3, 3, 4, 4, 4, 5, 5]\n",
    "Output = [1, 2, 3, 4, 5]"
   ]
  },
  {
   "cell_type": "code",
   "execution_count": 23,
   "metadata": {},
   "outputs": [
    {
     "data": {
      "text/plain": [
       "True"
      ]
     },
     "execution_count": 23,
     "metadata": {},
     "output_type": "execute_result"
    }
   ],
   "source": [
    "def arr_duplicates(arr): #defining function\n",
    "    list_u=[]     #taking extra list to find duplicates\n",
    "    for i in arr:   #iterating through entire list \n",
    "        if i not in list_u:   #if it is not present append\n",
    "            list_u.append(i)\n",
    "        else:\n",
    "            return True    #if it is present means it is duplicate hence return True\n",
    "arr_duplicates([1,2,3,4,3,5])"
   ]
  },
  {
   "cell_type": "code",
   "execution_count": 27,
   "metadata": {},
   "outputs": [
    {
     "name": "stdout",
     "output_type": "stream",
     "text": [
      "[4, 6, 7, 1, 2, 3]\n"
     ]
    }
   ],
   "source": [
    "#brute force method\n",
    "def arr_rotate(arr,k,n):\n",
    "    temp=arr[:k]   #temp store data tempararily\n",
    "    for i in range(k,n):\n",
    "        arr[i-k]=arr[i]  #0th position k value will come\n",
    "        arr[i]=temp[i-(n-k)] #kth position 0th value will come\n",
    "    return arr\n",
    "arr=[1,2,3,4,6,7]\n",
    "k=3\n",
    "n=len(arr)\n",
    "r=arr_rotate(arr,k,n)\n",
    "print(r)"
   ]
  },
  {
   "cell_type": "code",
   "execution_count": 31,
   "metadata": {},
   "outputs": [
    {
     "name": "stdout",
     "output_type": "stream",
     "text": [
      "[5, 6, 7, 1, 2, 3, 4]\n"
     ]
    }
   ],
   "source": [
    "#optimized way\n",
    "def rotate_array(arr, k):\n",
    "    # Calculate the effective rotation steps\n",
    "    k = k % len(arr) \n",
    "    # Reverse the entire array\n",
    "    arr.reverse()\n",
    "    # Reverse the first k elements\n",
    "    arr[:k] = reversed(arr[:k])\n",
    "    # Reverse the remaining elements\n",
    "    arr[k:] = reversed(arr[k:])\n",
    "arr = [1, 2, 3, 4, 5, 6, 7]\n",
    "k = 3\n",
    "rotate_array(arr, k)\n",
    "print(arr)\n"
   ]
  },
  {
   "cell_type": "code",
   "execution_count": 57,
   "metadata": {},
   "outputs": [
    {
     "name": "stdout",
     "output_type": "stream",
     "text": [
      "[12, 9, 7, 5, 4, 2]\n"
     ]
    }
   ],
   "source": [
    "def reverse_in_place(arr):\n",
    "    start = 0\n",
    "    end = len(arr) - 1\n",
    "    while start < end:\n",
    "        # Swap elements at start and end indices\n",
    "        arr[start], arr[end] = arr[end], arr[start]\n",
    "\n",
    "        # Move indices towards each other\n",
    "        start += 1\n",
    "        end -= 1\n",
    "\n",
    "# Example usage\n",
    "arr = [2, 4, 5, 7, 9, 12]\n",
    "reverse_in_place(arr)\n",
    "print(arr)  # Output: [12, 9, 7, 5, 4, 2]"
   ]
  },
  {
   "cell_type": "code",
   "execution_count": 60,
   "metadata": {},
   "outputs": [
    {
     "name": "stdout",
     "output_type": "stream",
     "text": [
      "90\n"
     ]
    }
   ],
   "source": [
    "#maximum element in array\n",
    "def max_element(arr,n):\n",
    "    max=arr[0]            #initially we store max=0\n",
    "    for i in range(n):\n",
    "        if arr[i]>max:      #comparing with all elements to find maximum value\n",
    "            max=arr[i]\n",
    "    return max\n",
    "arr=[10,90,29,10,56]\n",
    "r=max_element(arr,5)\n",
    "print(r)"
   ]
  },
  {
   "cell_type": "code",
   "execution_count": 61,
   "metadata": {},
   "outputs": [
    {
     "name": "stdout",
     "output_type": "stream",
     "text": [
      "[1, 2, 3, 4, 5]\n"
     ]
    }
   ],
   "source": [
    "def remove_duplicates(arr):\n",
    "    if not arr:\n",
    "        return []\n",
    "\n",
    "    unique_index = 0\n",
    "\n",
    "    for i in range(1, len(arr)):\n",
    "        if arr[i] != arr[unique_index]:\n",
    "            unique_index += 1\n",
    "            arr[unique_index] = arr[i]\n",
    "\n",
    "    return arr[:unique_index + 1]\n",
    "\n",
    "# Example usage\n",
    "arr = [1, 1, 2, 2, 2, 3, 3, 4, 4, 4, 5, 5]\n",
    "result = remove_duplicates(arr)\n",
    "print(result)  # Output: [1, 2, 3, 4, 5]\n"
   ]
  }
 ],
 "metadata": {
  "kernelspec": {
   "display_name": "Python 3",
   "language": "python",
   "name": "python3"
  },
  "language_info": {
   "codemirror_mode": {
    "name": "ipython",
    "version": 3
   },
   "file_extension": ".py",
   "mimetype": "text/x-python",
   "name": "python",
   "nbconvert_exporter": "python",
   "pygments_lexer": "ipython3",
   "version": "3.7.3"
  }
 },
 "nbformat": 4,
 "nbformat_minor": 2
}
